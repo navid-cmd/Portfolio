{
 "cells": [
  {
   "cell_type": "markdown",
   "metadata": {},
   "source": [
    "-----------"
   ]
  },
  {
   "cell_type": "markdown",
   "metadata": {},
   "source": [
    "# <h1 align=\"center\">Portfolio Part 1 </h1>\n",
    "<br>"
   ]
  },
  {
   "cell_type": "markdown",
   "metadata": {},
   "source": [
    "---------"
   ]
  },
  {
   "cell_type": "markdown",
   "metadata": {},
   "source": [
    "### Exercise 1"
   ]
  },
  {
   "cell_type": "code",
   "execution_count": 1,
   "metadata": {},
   "outputs": [
    {
     "name": "stdout",
     "output_type": "stream",
     "text": [
      "This is a prime number\n"
     ]
    }
   ],
   "source": [
    "def check_prime(n):\n",
    "    if n < 2:\n",
    "        return False\n",
    "    \n",
    "    for i in range(2, int(n ** 0.5) + 1):\n",
    "        if n % i == 0:\n",
    "            return False\n",
    "    return True\n",
    "\n",
    "try:\n",
    "    number = int(input(\"Enter a number: \"))\n",
    "    if check_prime(number):\n",
    "        print(\"This is a prime number\")\n",
    "    else:\n",
    "        print(\"This is not a prime number\")\n",
    "except ValueError:\n",
    "    print(\"Please enter a valid integer.\")"
   ]
  },
  {
   "cell_type": "markdown",
   "metadata": {},
   "source": [
    "### Exercise 2"
   ]
  },
  {
   "cell_type": "code",
   "execution_count": 2,
   "metadata": {},
   "outputs": [
    {
     "name": "stdout",
     "output_type": "stream",
     "text": [
      "Fibonacci sequence: [0, 1, 1, 2, 3, 5, 8, 13, 21]\n"
     ]
    }
   ],
   "source": [
    "def fib(n):\n",
    "    \n",
    "   # Generate a Fibonacci sequence with n numbers.\n",
    "    \n",
    "   # Parameters:\n",
    "   #     n (int): Number of Fibonacci numbers to generate.\n",
    "        \n",
    "   # Returns:\n",
    "   #     list: A list containing the Fibonacci sequence.\n",
    "    \n",
    "    sequence = []\n",
    "    a, b = 0, 1\n",
    "    for _ in range(n):\n",
    "        sequence.append(a)\n",
    "        a, b = b, a + b\n",
    "    return sequence\n",
    "\n",
    "try:\n",
    "    count = int(input(\"Enter how many Fibonacci numbers to calculate: \"))\n",
    "    if count <= 0:\n",
    "        print(\"Please enter a positive integer.\")\n",
    "    else:\n",
    "        fib_seq = fib(count)\n",
    "        print(\"Fibonacci sequence:\", fib_seq)\n",
    "except ValueError:\n",
    "    print(\"Invalid input. Please enter an integer.\")\n"
   ]
  },
  {
   "cell_type": "markdown",
   "metadata": {},
   "source": [
    "### Exercise 3"
   ]
  },
  {
   "cell_type": "code",
   "execution_count": 3,
   "metadata": {},
   "outputs": [
    {
     "name": "stdout",
     "output_type": "stream",
     "text": [
      "* * * * * \n",
      "* * * * \n",
      "* * * \n",
      "* * \n",
      "* \n"
     ]
    }
   ],
   "source": [
    "# Define the number of rows for the triangle\n",
    "rows = 5\n",
    "\n",
    "# Loop from 'rows' down to 1 and print asterisks\n",
    "for i in range(rows, 0, -1):\n",
    "    print(\"* \" * i)"
   ]
  },
  {
   "cell_type": "markdown",
   "metadata": {},
   "source": [
    "### Exercise 4"
   ]
  },
  {
   "cell_type": "code",
   "execution_count": 4,
   "metadata": {},
   "outputs": [
    {
     "name": "stdout",
     "output_type": "stream",
     "text": [
      "Reversed string: olleh\n"
     ]
    }
   ],
   "source": [
    "def rev_string():\n",
    "    \n",
    "    # Ask the user to enter a string and print its reverse.\n",
    "    \n",
    "    user_str = input(\"Enter a string: \")\n",
    "    # Reverse the string using slicing\n",
    "    reversed_str = user_str[::-1]\n",
    "    print(\"Reversed string:\", reversed_str)\n",
    "\n",
    "# Run the function\n",
    "rev_string()"
   ]
  },
  {
   "cell_type": "markdown",
   "metadata": {},
   "source": [
    "### Exercise 5"
   ]
  },
  {
   "cell_type": "code",
   "execution_count": 5,
   "metadata": {},
   "outputs": [
    {
     "name": "stdout",
     "output_type": "stream",
     "text": [
      "Min value is: 12\n",
      "Max value is: 12\n"
     ]
    }
   ],
   "source": [
    "def min_max(iterable):\n",
    "    # this function returns the minimum and maximum values from the provided iterable.\n",
    "    return min(iterable), max(iterable)\n",
    "\n",
    "# Example usage: Ask the user to input numbers separated by spaces\n",
    "numbers = [int(x) for x in input(\"Enter numbers separated by spaces: \").split()]\n",
    "minimum, maximum = min_max(numbers)\n",
    "print(\"Min value is:\", minimum)\n",
    "print(\"Max value is:\", maximum)"
   ]
  },
  {
   "cell_type": "markdown",
   "metadata": {},
   "source": [
    "### Exercise 6"
   ]
  },
  {
   "cell_type": "code",
   "execution_count": 6,
   "metadata": {},
   "outputs": [
    {
     "name": "stdout",
     "output_type": "stream",
     "text": [
      "Too low! Try again.\n",
      "Too low! Try again.\n",
      "Too low! Try again.\n",
      "Too low! Try again.\n",
      "Congratulations! You guessed the correct number: 9\n"
     ]
    }
   ],
   "source": [
    "import random\n",
    "\n",
    "# Generate a random secret number between 1 and 10\n",
    "secret_number = random.randint(1, 10)\n",
    "\n",
    "while True:\n",
    "    try:\n",
    "        guess = int(input(\"Guess the number between 1 and 10: \"))\n",
    "        if guess < secret_number:\n",
    "            print(\"Too low! Try again.\")\n",
    "        elif guess > secret_number:\n",
    "            print(\"Too high! Try again.\")\n",
    "        else:\n",
    "            print(\"Congratulations! You guessed the correct number:\", secret_number)\n",
    "            break  # Exit the loop when the correct number is guessed\n",
    "    except ValueError:\n",
    "        print(\"Invalid input. Please enter an integer.\")"
   ]
  },
  {
   "cell_type": "markdown",
   "metadata": {},
   "source": [
    "### Exercise 7"
   ]
  },
  {
   "cell_type": "code",
   "execution_count": 7,
   "metadata": {},
   "outputs": [
    {
     "name": "stdout",
     "output_type": "stream",
     "text": [
      "Access Granted!\n"
     ]
    }
   ],
   "source": [
    "correct_password = \"BigData123\"\n",
    "\n",
    "while True:\n",
    "    pwd = input(\"Enter the password: \")\n",
    "    if pwd == correct_password:\n",
    "        print(\"Access Granted!\")\n",
    "        break  # Exit the loop if the correct password is entered\n",
    "    else:\n",
    "        print(\"Incorrect password. Try again.\")\n"
   ]
  },
  {
   "cell_type": "markdown",
   "metadata": {},
   "source": [
    "### Exercise 8"
   ]
  },
  {
   "cell_type": "code",
   "execution_count": 8,
   "metadata": {},
   "outputs": [
    {
     "name": "stdout",
     "output_type": "stream",
     "text": [
      "The sum of the series is: 22892.18189964158\n"
     ]
    }
   ],
   "source": [
    "import math\n",
    "\n",
    "def series_sum(x, N):\n",
    "    \"\"\"\n",
    "    Calculate the sum of the series:\n",
    "    x*5^(2)/(1+2!) + x*5^(4)/(2+3!) + ... for N terms.\n",
    "    \n",
    "    Parameters:\n",
    "        x (float): The multiplier in the series.\n",
    "        N (int): The number of terms in the series.\n",
    "    \n",
    "    Returns:\n",
    "        float: The sum of the series.\n",
    "    \"\"\"\n",
    "    total = 0\n",
    "    for k in range(1, N+1):\n",
    "        # Each term: x * (5^(2k)) / (k + (k+1)!)\n",
    "        term = x * (5 ** (2 * k)) / (k + math.factorial(k+1))\n",
    "        total += term\n",
    "    return total\n",
    "\n",
    "try:\n",
    "    x_value = float(input(\"Enter the value of x: \"))\n",
    "    N_terms = int(input(\"Enter the number of terms (N): \"))\n",
    "    result = series_sum(x_value, N_terms)\n",
    "    print(\"The sum of the series is:\", result)\n",
    "except ValueError:\n",
    "    print(\"Invalid input. Please enter numerical values.\")"
   ]
  },
  {
   "cell_type": "markdown",
   "metadata": {},
   "source": [
    "### Exercise 9"
   ]
  },
  {
   "cell_type": "code",
   "execution_count": 9,
   "metadata": {},
   "outputs": [
    {
     "data": {
      "image/png": "[encoded data removed]",
      "text/plain": [
       "<Figure size 1500x500 with 3 Axes>"
      ]
     },
     "metadata": {},
     "output_type": "display_data"
    }
   ],
   "source": [
    "import numpy as np\n",
    "import matplotlib.pyplot as plt\n",
    "from PIL import Image\n",
    "import requests\n",
    "from io import BytesIO\n",
    "\n",
    "# URL of the image\n",
    "picture_url = 'https://i.sstatic.net/ZZXg1.jpg'\n",
    "\n",
    "# Download the image data using requests\n",
    "response = requests.get(picture_url)\n",
    "response.raise_for_status()  # Check if the download was successful\n",
    "\n",
    "# Open the image using BytesIO\n",
    "img = Image.open(BytesIO(response.content))\n",
    "img_array = np.array(img)\n",
    "\n",
    "# Create horizontal mirror reflection (flip left-right)\n",
    "horizontal_flip = np.fliplr(img_array)\n",
    "\n",
    "# Create vertical mirror reflection (flip top-bottom)\n",
    "vertical_flip = np.flipud(img_array)\n",
    "\n",
    "# Display the original and reflected images\n",
    "plt.figure(figsize=(15, 5))\n",
    "\n",
    "# Original Image\n",
    "plt.subplot(1, 3, 1)\n",
    "plt.imshow(img_array)\n",
    "plt.title(\"Original Image\")\n",
    "plt.axis('off')\n",
    "\n",
    "# Horizontal Reflection\n",
    "plt.subplot(1, 3, 2)\n",
    "plt.imshow(horizontal_flip)\n",
    "plt.title(\"Horizontal Reflection\")\n",
    "plt.axis('off')\n",
    "\n",
    "# Vertical Reflection\n",
    "plt.subplot(1, 3, 3)\n",
    "plt.imshow(vertical_flip)\n",
    "plt.title(\"Vertical Reflection\")\n",
    "plt.axis('off')\n",
    "\n",
    "plt.show()"
   ]
  },
  {
   "cell_type": "markdown",
   "metadata": {},
   "source": [
    "### Exercise 10 "
   ]
  },
  {
   "cell_type": "code",
   "execution_count": 10,
   "metadata": {},
   "outputs": [
    {
     "name": "stdout",
     "output_type": "stream",
     "text": [
      "Minimum temperature: 18\n",
      "Maximum temperature: 30\n",
      "Average temperature: 23.133333333333333\n",
      "Temperatures in Fahrenheit: [71.6 75.2 66.2 69.8 73.4 77.  78.8 80.6 75.2 73.4 68.  71.6 69.8 66.2\n",
      " 64.4 71.6 73.4 75.2 78.8 82.4 86.  80.6 77.  78.8 75.2 71.6 69.8 68.\n",
      " 66.2 73.4]\n",
      "Days with temperature above 25°C: [26 27 26 28 30 27 26]\n",
      "Number of days with temperature below 20°C: 4\n",
      "Sorted temperatures: [18 19 19 19 20 20 21 21 21 22 22 22 22 23 23 23 23 24 24 24 24 25 25 26\n",
      " 26 26 27 27 28 30]\n",
      "Reshaped temperature data (5 weeks x 6 days):\n",
      " [[22 24 19 21 23 25]\n",
      " [26 27 24 23 20 22]\n",
      " [21 19 18 22 23 24]\n",
      " [26 28 30 27 25 26]\n",
      " [24 22 21 20 19 23]]\n"
     ]
    }
   ],
   "source": [
    "import numpy as np\n",
    "\n",
    "# Temperature data in Celsius\n",
    "temps = [22, 24, 19, 21, 23, 25, 26, 27, 24, 23, 20, 22, 21, 19, 18, 22, 23, 24, 26, 28, 30, 27, 25, 26, 24, 22, 21, 20, 19, 23]\n",
    "\n",
    "# 1) Create a NumPy array from the temperature list\n",
    "temps_array = np.array(temps)\n",
    "\n",
    "# 2) Find the minimum, maximum, and average temperature\n",
    "min_temp = np.min(temps_array)\n",
    "max_temp = np.max(temps_array)\n",
    "avg_temp = np.mean(temps_array)\n",
    "\n",
    "print(\"Minimum temperature:\", min_temp)\n",
    "print(\"Maximum temperature:\", max_temp)\n",
    "print(\"Average temperature:\", avg_temp)\n",
    "\n",
    "# 3) Convert the temperatures from Celsius to Fahrenheit using the formula: F = C * 9/5 + 32\n",
    "temps_fahrenheit = temps_array * 9/5 + 32\n",
    "print(\"Temperatures in Fahrenheit:\", temps_fahrenheit)\n",
    "\n",
    "# 4) Find all days where the temperature was above 25°C\n",
    "above_25 = temps_array[temps_array > 25]\n",
    "print(\"Days with temperature above 25°C:\", above_25)\n",
    "\n",
    "# 5) Count how many days had temperatures below 20°C\n",
    "below_20_count = np.sum(temps_array < 20)\n",
    "print(\"Number of days with temperature below 20°C:\", below_20_count)\n",
    "\n",
    "# 6) Sort the temperature data in ascending order\n",
    "sorted_temps = np.sort(temps_array)\n",
    "print(\"Sorted temperatures:\", sorted_temps)\n",
    "\n",
    "# 7) Reshape the 1D array into a 5x6 2D array (5 weeks of 6 days each)\n",
    "reshaped_temps = temps_array.reshape((5, 6))\n",
    "print(\"Reshaped temperature data (5 weeks x 6 days):\\n\", reshaped_temps)\n"
   ]
  }
 ],
 "metadata": {
  "kernelspec": {
   "display_name": "Python 3",
   "language": "python",
   "name": "python3"
  },
  "language_info": {
   "codemirror_mode": {
    "name": "ipython",
    "version": 3
   },
   "file_extension": ".py",
   "mimetype": "text/x-python",
   "name": "python",
   "nbconvert_exporter": "python",
   "pygments_lexer": "ipython3",
   "version": "3.12.1"
  }
 },
 "nbformat": 4,
 "nbformat_minor": 2
}
